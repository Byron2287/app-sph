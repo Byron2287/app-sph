{
 "cells": [
  {
   "cell_type": "code",
   "execution_count": 1,
   "metadata": {},
   "outputs": [
    {
     "data": {
      "text/plain": [
       "8"
      ]
     },
     "execution_count": 1,
     "metadata": {},
     "output_type": "execute_result"
    }
   ],
   "source": [
    "3+5\n"
   ]
  },
  {
   "cell_type": "code",
   "execution_count": 16,
   "metadata": {},
   "outputs": [
    {
     "data": {
      "text/plain": [
       "'c:\\\\UNINORTE\\\\Desarrollo Web\\\\PROYECTO\\\\SPH\\\\static\\\\img\\\\prueba\\\\perfil\\\\Default.png'"
      ]
     },
     "execution_count": 16,
     "metadata": {},
     "output_type": "execute_result"
    }
   ],
   "source": [
    "import shutil\n",
    "from os import getcwd\n",
    "alias =\"prueba\"\n",
    "pathFileImage=getcwd()+\"\\\\static\\\\img\\\\\"+alias+\"\\\\perfil\"\n",
    "#guarda una foto por defecto\n",
    "Origen =getcwd()+\"\\\\Default.png\"\n",
    "destino =pathFileImage+\"\\\\Default.png\"\n",
    "shutil.copy(Origen,destino)\n",
    "\n",
    "\n",
    "\n",
    "\n"
   ]
  },
  {
   "cell_type": "code",
   "execution_count": 21,
   "metadata": {},
   "outputs": [],
   "source": [
    "import os\n",
    "import shutil\n",
    "from os import getcwd\n",
    "user =\"prueba2\"        \n",
    "pathFileImage=getcwd()+\"\\\\static\\\\img\\\\\"+user+\"\\\\perfil\"\n",
    "os.mkdir(pathFileImage)\n"
   ]
  },
  {
   "cell_type": "code",
   "execution_count": 22,
   "metadata": {},
   "outputs": [
    {
     "name": "stdout",
     "output_type": "stream",
     "text": [
      "1\n"
     ]
    }
   ],
   "source": [
    "import os\n",
    "initial_count = 0\n",
    "user=\"victorgonzalez2008@hotmail.com\"\n",
    "dir = getcwd()+\"\\\\static\\\\img\\\\\"+user\n",
    "for path in os.listdir(dir):\n",
    "    if os.path.isfile(os.path.join(dir, path)):\n",
    "        initial_count += 1\n",
    "print(initial_count)"
   ]
  }
 ],
 "metadata": {
  "kernelspec": {
   "display_name": "Python 3.10.7 64-bit",
   "language": "python",
   "name": "python3"
  },
  "language_info": {
   "codemirror_mode": {
    "name": "ipython",
    "version": 3
   },
   "file_extension": ".py",
   "mimetype": "text/x-python",
   "name": "python",
   "nbconvert_exporter": "python",
   "pygments_lexer": "ipython3",
   "version": "3.10.7"
  },
  "orig_nbformat": 4,
  "vscode": {
   "interpreter": {
    "hash": "d3e10ef16274dd72e574b8fa73b58450b957d8421a2901baded3cca26fcf5dda"
   }
  }
 },
 "nbformat": 4,
 "nbformat_minor": 2
}
